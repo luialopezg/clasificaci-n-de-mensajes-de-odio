{
 "cells": [
  {
   "cell_type": "markdown",
   "id": "5f8f007d-7de6-4622-aa5d-3e2ed5210ac7",
   "metadata": {},
   "source": [
    "_Técnicas de Aprendizaje Automático_\n",
    "\n",
    "_Máster Universitario en Inteligencia Artificial_\n",
    "\n",
    "# Caso Grupal: Clasificación de mensajes de odio\n",
    "\n",
    "## Objetivos\n",
    "\n",
    "Mediante este trabajo se pretende que el estudiante ponga en práctica la aplicación de un proceso completo de machine learning a la clasificación de mensajes de odio.\n",
    "\n",
    "El objetivo es generar un proyecto completo de machine learning para clasificar mensajes de odio. Debe detallar los pasos que hay que realizar para la clasificación de mensajes, así como una evaluación de los resultados.\n",
    "\n",
    "- Decidir la técnica de aprendizaje automático a utilizar\n",
    "- Analizar diferentes modelos de aprendizaje supervisado para la clasificación de mensajes de odio.\n",
    "- Evaluar los resultados obtenidos por cada modelo en términos de precisión, recall, y f1.\n",
    "\n",
    "## Descripción de la actividad\n",
    "\n",
    "La empresa SureTech Innovations quiere implementar un clasificador de mensajes de odio. Para ello se deben entrenar diferentes modelos de clasificación, evaluar el rendimiento de cada uno de ellos, y finalmente, decidir cuál sería el mejor.\n",
    "\n",
    "Para llevar a cabo esta actividad cuentas con el dataset simplificado de HateSpeech en la siguiente URL: https://github.com/almudenaris/TAA/blob/main/out.csv\n",
    "\n",
    "Los pasos que se deben seguir para desarrollar esta actividad son:\n",
    "\n",
    "1.\t¿Qué tarea de aprendizaje automático se pretende resolver? ¿Qué análisis previos serían necesarios realizar para saber si es posible construir el modelo que buscamos? Realiza un análisis exploratorio de datos adecuado a la tarea que se pretende resolver y al dataset facilitado. Explica con detalle, en base a la tarea que se quiere resolver, qué análisis serían necesarios realizar sobre los datos.\n",
    "\n",
    "2.\tEn base a la tarea que se pide realizar y a las características del dataset decide qué algoritmo o algoritmos se deben utilizar. Implementa tres modelos. Realiza los entrenamientos necesarios para cada uno de ellos. Explica por qué son convenientes los algoritmos elegidos.\n",
    "\n",
    "3.\tRealiza una explicación de las métricas de evaluación que se deben utilizar para valorar la bondad del modelo. Justifica la decisión de las elegidas. ¿Cómo habría que evaluar el modelo? Evalúa los modelos entrenados en el punto anterior y explica los resultados obtenidos.\n",
    "\n",
    "\n",
    "## Dataset\n",
    "\n",
    "El dataset original proporcionado en el proyecto transversal ha sido adaptado para la realización de esta actividad. Esa adaptación ha incluido:\n",
    "\n",
    "- Eliminación de nulos y duplicados\n",
    "- Eliminación de URLs, emojis y menciones a los periódicos\n",
    "- Eliminación de filas vacías\n",
    "- Limpieza y homogeneización de datos.\n",
    "    - Convertir la totalidad del texto a minúscula\n",
    "    - Eliminar signos de puntuación\n",
    "    - Eliminar números\n",
    "    - Eliminar espacios en blanco adicionales\n",
    "    - Eliminar palabras con longitud menor a 2 caracteres\n",
    "    - Eliminar stopwords\n",
    "    - Tokenización\n",
    "    - Lematización\n",
    "- Proceso de extracción de características\n",
    "    - Conteo de palabras positivas (A)\n",
    "    - Conteo de palabras negativas (B)\n",
    "    - Conteo del número de bigrams más comunes (C)\n",
    "    - Conteo del número de menciones a otros usuarios (D)\n",
    "    - Categoría del sentimiento según librería ‘pysentimiento’ en español (E)\n",
    "\n",
    "- Estandarización de las características (A_t,..E_t)\n",
    "- Combinación de características f1*fi (iA..iE) (Valor1,..Valor10)."
   ]
  },
  {
   "cell_type": "markdown",
   "id": "60bf0f82-8971-45de-9797-7d55b62f5ede",
   "metadata": {},
   "source": [
    "## EDA"
   ]
  },
  {
   "cell_type": "code",
   "execution_count": 5,
   "id": "e80d286b-af9d-4e4c-bdd3-0ee3fafa0e74",
   "metadata": {},
   "outputs": [
    {
     "name": "stdout",
     "output_type": "stream",
     "text": [
      "   A   B   C  D  E                                         comentario  label  \\\n",
      "0  2  64  30  0  2  pandemia,originado,covid,cierto,incidencia,aba...    0.0   \n",
      "1  4  70  21  0  0  ser,mes,larga,espera,llegar,momento,siempre,pr...    0.0   \n",
      "2  4  88  50  0  0  cartagena,san,sebastiar,fuengirola,irun,orense...    0.0   \n",
      "3  3  38  21  0  0  pleno,dia,verano,calor,plan,mas,apetecibl,disf...    0.0   \n",
      "4  0  59  17  0  0  pasado,junio,celebro,dia,luchar,frente,leishma...    0.0   \n",
      "\n",
      "        A_t       B_t        C_t  ...    Valor_1    Valor_2   Valor_3  \\\n",
      "0  1.851102  2.759647   7.145831  ...   5.108388  13.227660 -0.771127   \n",
      "1  3.990202  3.054765   4.877255  ...  12.189130  19.461233 -1.662227   \n",
      "2  3.990202  3.940120  12.187108  ...  15.721875  48.629021 -1.662227   \n",
      "3  2.920652  1.480801   4.877255  ...   4.324903  14.244765 -1.216677   \n",
      "4 -0.287998  2.513715   3.869000  ...  -0.723945  -1.114264  0.119973   \n",
      "\n",
      "    Valor_4    Valor_5   Valor_6   Valor_7   Valor_8   Valor_9  Valor_10  \n",
      "0  0.815665  19.719970 -1.149606  1.216004 -2.976790  3.148722 -0.183560  \n",
      "1 -2.119191  14.898871 -1.272546 -1.622382 -2.031754 -2.590305  0.221244  \n",
      "2 -2.119191  48.018675 -1.641365 -2.092593 -5.076872 -6.472559  0.221244  \n",
      "3 -1.551155   7.222244 -0.616868 -0.786452 -2.031754 -2.590305  0.221244  \n",
      "4  0.152955   9.725563 -1.047156 -1.335031 -1.611737 -2.054821  0.221244  \n",
      "\n",
      "[5 rows x 22 columns]\n"
     ]
    }
   ],
   "source": [
    "# coloca tu código y respuestas del punto 1 en esta sección\n",
    "import pandas as pd\n",
    "\n",
    "# Ruta al conjunto de datos\n",
    "file_path = 'out.csv'\n",
    "\n",
    "# Carga del conjunto de datos\n",
    "df = pd.read_csv(file_path)\n",
    "\n",
    "# Muestra de los primeros 5 registros\n",
    "print(df.head())\n",
    "\n",
    "\n"
   ]
  },
  {
   "cell_type": "code",
   "execution_count": 9,
   "id": "8dd1b840",
   "metadata": {},
   "outputs": [
    {
     "ename": "ModuleNotFoundError",
     "evalue": "No module named 'seaborn'",
     "output_type": "error",
     "traceback": [
      "\u001b[0;31m---------------------------------------------------------------------------\u001b[0m",
      "\u001b[0;31mModuleNotFoundError\u001b[0m                       Traceback (most recent call last)",
      "Cell \u001b[0;32mIn[9], line 3\u001b[0m\n\u001b[1;32m      1\u001b[0m \u001b[38;5;28;01mimport\u001b[39;00m \u001b[38;5;21;01mpandas\u001b[39;00m \u001b[38;5;28;01mas\u001b[39;00m \u001b[38;5;21;01mpd\u001b[39;00m\n\u001b[1;32m      2\u001b[0m \u001b[38;5;28;01mimport\u001b[39;00m \u001b[38;5;21;01mmatplotlib\u001b[39;00m\u001b[38;5;21;01m.\u001b[39;00m\u001b[38;5;21;01mpyplot\u001b[39;00m \u001b[38;5;28;01mas\u001b[39;00m \u001b[38;5;21;01mplt\u001b[39;00m\n\u001b[0;32m----> 3\u001b[0m \u001b[38;5;28;01mimport\u001b[39;00m \u001b[38;5;21;01mseaborn\u001b[39;00m \u001b[38;5;28;01mas\u001b[39;00m \u001b[38;5;21;01msns\u001b[39;00m\n\u001b[1;32m      5\u001b[0m \u001b[38;5;66;03m# Describir la estructura del dataset\u001b[39;00m\n\u001b[1;32m      6\u001b[0m \u001b[38;5;28mprint\u001b[39m(data\u001b[38;5;241m.\u001b[39minfo())\n",
      "\u001b[0;31mModuleNotFoundError\u001b[0m: No module named 'seaborn'"
     ]
    }
   ],
   "source": [
    "import pandas as pd\n",
    "import matplotlib.pyplot as plt\n",
    "import seaborn as sns\n",
    "\n",
    "# Describir la estructura del dataset\n",
    "print(data.info())\n",
    "print(data.describe())\n",
    "\n",
    "# Visualización de la distribución de las variables numéricas\n",
    "numeric_columns = ['A', 'B', 'C', 'D'] + ['At', 'Bt', 'Ct', 'Dt'] + ['Valor1', 'Valor2', 'Valor3', 'Valor4', 'Valor5', 'Valor6', 'Valor7', 'Valor8', 'Valor9', 'Valor10']\n",
    "data[numeric_columns].hist(bins=30, figsize=(20, 15))\n",
    "plt.show()\n",
    "\n",
    "# Resumen estadístico de la variable objetivo\n",
    "print(data['E'].value_counts())\n",
    "\n",
    "# Gráfico de barras para la variable objetivo\n",
    "sns.countplot(x='E', data=data)\n",
    "plt.title('Distribución de la Variable Objetivo')\n",
    "plt.show()\n",
    "\n",
    "# Análisis de valores nulos\n",
    "print(data.isnull().sum())\n",
    "\n",
    "# Matriz de correlación\n",
    "correlation_matrix = data.corr()\n",
    "plt.figure(figsize=(16, 12))\n",
    "sns.heatmap(correlation_matrix, annot=True, fmt='.2f', cmap='coolwarm')\n",
    "plt.title('Matriz de Correlación')\n",
    "plt.show()\n",
    "\n",
    "# Análisis de outliers con boxplots\n",
    "plt.figure(figsize=(15, 10))\n",
    "for i, col in enumerate(numeric_columns, 1):\n",
    "    plt.subplot(5, 4, i)\n",
    "    sns.boxplot(x=data[col])\n",
    "    plt.title(f'Distribución de {col}')\n",
    "plt.tight_layout()\n",
    "plt.show()\n"
   ]
  },
  {
   "cell_type": "code",
   "execution_count": null,
   "id": "1502a127-dd9b-44ee-9893-8b18e8b79501",
   "metadata": {},
   "outputs": [],
   "source": []
  },
  {
   "cell_type": "code",
   "execution_count": null,
   "id": "1026a6f9-b6c3-4184-87e0-6135413d4371",
   "metadata": {},
   "outputs": [],
   "source": []
  },
  {
   "cell_type": "markdown",
   "id": "105e97be-3cca-4981-ab87-e953254433c7",
   "metadata": {},
   "source": [
    "## SELECCIÓN Y ENTRENAMIENTO DE LOS MODELOS"
   ]
  },
  {
   "cell_type": "code",
   "execution_count": null,
   "id": "3cbb27f2-7e77-4faa-907c-e2356f4f17b2",
   "metadata": {},
   "outputs": [],
   "source": [
    "# coloca tu código y respuestas del punto 2 en esta sección"
   ]
  },
  {
   "cell_type": "code",
   "execution_count": null,
   "id": "277d1df6-2bad-4398-aa05-be298766989c",
   "metadata": {},
   "outputs": [],
   "source": []
  },
  {
   "cell_type": "code",
   "execution_count": null,
   "id": "630149b4-4898-4727-9caa-d2d850777941",
   "metadata": {},
   "outputs": [],
   "source": []
  },
  {
   "cell_type": "markdown",
   "id": "a8950b08-3342-444b-a4bf-bb06d2052562",
   "metadata": {},
   "source": [
    "## EVALUACIÓN DE LOS MODELOS Y COMPARATIVA"
   ]
  },
  {
   "cell_type": "code",
   "execution_count": null,
   "id": "08dc13bb-7400-4eed-b9f3-b7ed914cf9df",
   "metadata": {},
   "outputs": [],
   "source": [
    "# coloca tu código y respuestas del punto 3 en esta sección"
   ]
  },
  {
   "cell_type": "code",
   "execution_count": null,
   "id": "4ac31c2a-8137-40fa-b8a2-46a3378cc9b1",
   "metadata": {},
   "outputs": [],
   "source": []
  }
 ],
 "metadata": {
  "kernelspec": {
   "display_name": "Python 3 (ipykernel)",
   "language": "python",
   "name": "python3"
  },
  "language_info": {
   "codemirror_mode": {
    "name": "ipython",
    "version": 3
   },
   "file_extension": ".py",
   "mimetype": "text/x-python",
   "name": "python",
   "nbconvert_exporter": "python",
   "pygments_lexer": "ipython3",
   "version": "3.10.12"
  }
 },
 "nbformat": 4,
 "nbformat_minor": 5
}

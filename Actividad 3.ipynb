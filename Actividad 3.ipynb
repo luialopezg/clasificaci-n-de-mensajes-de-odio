{
 "cells": [
  {
   "cell_type": "markdown",
   "id": "5f8f007d-7de6-4622-aa5d-3e2ed5210ac7",
   "metadata": {},
   "source": [
    "_Técnicas de Aprendizaje Automático_\r\n",
    "\r\n",
    "_Máster Universitario en Inteligencia Artificial_\r\n",
    "\r\n",
    "# Caso Grupal: Clasificación de mensajes de odio\r\n",
    "\r\n",
    "## Objetivos\r\n",
    "\r\n",
    "Mediante este trabajo se pretende que el estudiante ponga en práctica la aplicación de un proceso completo de machine learning a la clasificación de mensajes de odio.\r\n",
    "\r\n",
    "El objetivo es generar un proyecto completo de machine learning para clasificar mensajes de odio. Debe detallar los pasos que hay que realizar para la clasificación de mensajes, así como una evaluación de los resultados.\r\n",
    "\r\n",
    "- Decidir la técnica de aprendizaje automático a utilizar\r\n",
    "- Analizar diferentes modelos de aprendizaje supervisado para la clasificación de mensajes de odio.\r\n",
    "- Evaluar los resultados obtenidos por cada modelo en términos de precisión, recall, y f1.\r\n",
    "\r\n",
    "## Descripción de la actividad\r\n",
    "\r\n",
    "La empresa SureTech Innovations quiere implementar un clasificador de mensajes de odio. Para ello se deben entrenar diferentes modelos de clasificación, evaluar el rendimiento de cada uno de ellos, y finalmente, decidir cuál sería el mejor.\r\n",
    "\r\n",
    "Para llevar a cabo esta actividad cuentas con el dataset simplificado de HateSpeech en la siguiente URL: https://github.com/almudenaris/TAA/blob/main/out.csv\r\n",
    "\r\n",
    "Los pasos que se deben seguir para desarrollar esta actividad son:\r\n",
    "\r\n",
    "1.\t¿Qué tarea de aprendizaje automático se pretende resolver? ¿Qué análisis previos serían necesarios realizar para saber si es posible construir el modelo que buscamos? Realiza un análisis exploratorio de datos adecuado a la tarea que se pretende resolver y al dataset facilitado. Explica con detalle, en base a la tarea que se quiere resolver, qué análisis serían necesarios realizar sobre los datos.\r\n",
    "\r\n",
    "2.\tEn base a la tarea que se pide realizar y a las características del dataset decide qué algoritmo o algoritmos se deben utilizar. Implementa tres modelos. Realiza los entrenamientos necesarios para cada uno de ellos. Explica por qué son convenientes los algoritmos elegidos.\r\n",
    "\r\n",
    "3.\tRealiza una explicación de las métricas de evaluación que se deben utilizar para valorar la bondad del modelo. Justifica la decisión de las elegidas. ¿Cómo habría que evaluar el modelo? Evalúa los modelos entrenados en el punto anterior y explica los resultados obtenidos.\r\n",
    "\r\n",
    "\r\n",
    "## Dataset\r\n",
    "\r\n",
    "El dataset original proporcionado en el proyecto transversal ha sido adaptado para la realización de esta actividad. Esa adaptación ha incluido:\r\n",
    "\r\n",
    "- Eliminación de nulos y duplicados\r\n",
    "- Eliminación de URLs, emojis y menciones a los periódicos\r\n",
    "- Eliminación de filas vacías\r\n",
    "- Limpieza y homogeneización de datos.\r\n",
    "    - Convertir la totalidad del texto a minúscula\r\n",
    "    - Eliminar signos de puntuación\r\n",
    "    - Eliminar números\r\n",
    "    - Eliminar espacios en blanco adicionales\r\n",
    "    - Eliminar palabras con longitud menor a 2 caracteres\r\n",
    "    - Eliminar stopwords\r\n",
    "    - Tokenización\r\n",
    "    - Lematización\r\n",
    "- Proceso de extracción de características\r\n",
    "    - Conteo de palabras positivas (A)\r\n",
    "    - Conteo de palabras negativas (B)\r\n",
    "    - Conteo del número de bigrams más comunes (C)\r\n",
    "    - Conteo del número de menciones a otros usuarios (D)\r\n",
    "    - Categoría del sentimiento según librería ‘pysentimiento’ en español (E)\r\n",
    "\r\n",
    "- Estandarización de las características (A_t,..E_t)\r\n",
    "- Combinación de características f1*fi (iA..iE) (Valor1,..Valor10)."
   ]
  },
  {
   "cell_type": "markdown",
   "id": "60bf0f82-8971-45de-9797-7d55b62f5ede",
   "metadata": {},
   "source": [
    "## EDA"
   ]
  },
  {
   "cell_type": "code",
   "execution_count": null,
   "id": "e80d286b-af9d-4e4c-bdd3-0ee3fafa0e74",
   "metadata": {},
   "outputs": [],
   "source": [
    "# coloca tu código y respuestas del punto 1 en esta sección"
   ]
  },
  {
   "cell_type": "code",
   "execution_count": null,
   "id": "1502a127-dd9b-44ee-9893-8b18e8b79501",
   "metadata": {},
   "outputs": [],
   "source": []
  },
  {
   "cell_type": "code",
   "execution_count": null,
   "id": "1026a6f9-b6c3-4184-87e0-6135413d4371",
   "metadata": {},
   "outputs": [],
   "source": []
  },
  {
   "cell_type": "markdown",
   "id": "105e97be-3cca-4981-ab87-e953254433c7",
   "metadata": {},
   "source": [
    "## SELECCIÓN Y ENTRENAMIENTO DE LOS MODELOS"
   ]
  },
  {
   "cell_type": "code",
   "execution_count": null,
   "id": "3cbb27f2-7e77-4faa-907c-e2356f4f17b2",
   "metadata": {},
   "outputs": [],
   "source": [
    "# coloca tu código y respuestas del punto 2 en esta sección"
   ]
  },
  {
   "cell_type": "code",
   "execution_count": null,
   "id": "277d1df6-2bad-4398-aa05-be298766989c",
   "metadata": {},
   "outputs": [],
   "source": []
  },
  {
   "cell_type": "code",
   "execution_count": null,
   "id": "630149b4-4898-4727-9caa-d2d850777941",
   "metadata": {},
   "outputs": [],
   "source": []
  },
  {
   "cell_type": "markdown",
   "id": "a8950b08-3342-444b-a4bf-bb06d2052562",
   "metadata": {},
   "source": [
    "## EVALUACIÓN DE LOS MODELOS Y COMPARATIVA"
   ]
  },
  {
   "cell_type": "code",
   "execution_count": null,
   "id": "08dc13bb-7400-4eed-b9f3-b7ed914cf9df",
   "metadata": {},
   "outputs": [],
   "source": [
    "# coloca tu código y respuestas del punto 3 en esta sección"
   ]
  },
  {
   "cell_type": "code",
   "execution_count": null,
   "id": "4ac31c2a-8137-40fa-b8a2-46a3378cc9b1",
   "metadata": {},
   "outputs": [],
   "source": []
  }
 ],
 "metadata": {
  "kernelspec": {
   "display_name": "Python 3 (ipykernel)",
   "language": "python",
   "name": "python3"
  },
  "language_info": {
   "codemirror_mode": {
    "name": "ipython",
    "version": 3
   },
   "file_extension": ".py",
   "mimetype": "text/x-python",
   "name": "python",
   "nbconvert_exporter": "python",
   "pygments_lexer": "ipython3",
   "version": "3.8.18"
  }
 },
 "nbformat": 4,
 "nbformat_minor": 5
}
